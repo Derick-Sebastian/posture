{
 "cells": [
  {
   "cell_type": "code",
   "execution_count": 1,
   "id": "69dec5c9-69bc-4158-9c8c-dd3b9dddc07e",
   "metadata": {},
   "outputs": [
    {
     "name": "stdout",
     "output_type": "stream",
     "text": [
      "Landmarks saved to squats correct.csv!\n"
     ]
    }
   ],
   "source": [
    "import cv2\n",
    "import mediapipe as mp\n",
    "import csv\n",
    "\n",
    "# Initialize MediaPipe Pose\n",
    "mp_pose = mp.solutions.pose\n",
    "mp_drawing = mp.solutions.drawing_utils\n",
    "pose = mp_pose.Pose()\n",
    "\n",
    "# Open video file\n",
    "video_path = r\"D:\\project\\data\\squats correct.mp4\"\n",
    "\n",
    "# Replace with your video file\n",
    "cap = cv2.VideoCapture(video_path)\n",
    "\n",
    "# Prepare CSV file\n",
    "csv_file = 'squats correct.csv'\n",
    "with open(csv_file, mode='w', newline='') as file:\n",
    "    writer = csv.writer(file)\n",
    "    header = ['frame'] + [f'{landmark}_{axis}' for landmark in range(33) for axis in ['x', 'y', 'z', 'visibility']]\n",
    "    writer.writerow(header)\n",
    "\n",
    "    frame_index = 0\n",
    "\n",
    "    # Process video frame by frame\n",
    "    while cap.isOpened():\n",
    "        ret, frame = cap.read()\n",
    "        if not ret:\n",
    "            break\n",
    "\n",
    "        # Convert frame to RGB\n",
    "        image = cv2.cvtColor(frame, cv2.COLOR_BGR2RGB)\n",
    "        results = pose.process(image)\n",
    "\n",
    "        # Extract landmarks\n",
    "        if results.pose_landmarks:\n",
    "            landmarks = results.pose_landmarks.landmark\n",
    "            row = [frame_index] + [\n",
    "                [landmark.x, landmark.y, landmark.z, landmark.visibility] for landmark in landmarks\n",
    "            ]\n",
    "            flat_row = [frame_index] + [value for landmark in landmarks for value in [landmark.x, landmark.y, landmark.z, landmark.visibility]]\n",
    "            writer.writerow(flat_row)\n",
    "\n",
    "        frame_index += 1\n",
    "\n",
    "    cap.release()\n",
    "\n",
    "pose.close()\n",
    "print(\"file created\")"
   ]
  }
 ],
 "metadata": {
  "kernelspec": {
   "display_name": "Python 3 (ipykernel)",
   "language": "python",
   "name": "python3"
  },
  "language_info": {
   "codemirror_mode": {
    "name": "ipython",
    "version": 3
   },
   "file_extension": ".py",
   "mimetype": "text/x-python",
   "name": "python",
   "nbconvert_exporter": "python",
   "pygments_lexer": "ipython3",
   "version": "3.12.2"
  }
 },
 "nbformat": 4,
 "nbformat_minor": 5
}
