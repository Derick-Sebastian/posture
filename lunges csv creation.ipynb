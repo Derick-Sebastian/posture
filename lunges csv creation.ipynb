{
 "cells": [
  {
   "cell_type": "code",
   "execution_count": 1,
   "id": "b3be187e-b363-4e73-b182-219c99f44bcd",
   "metadata": {
    "scrolled": true
   },
   "outputs": [
    {
     "name": "stdout",
     "output_type": "stream",
     "text": [
      "Landmarks saved to lunges correct.csv!\n"
     ]
    }
   ],
   "source": [
    "import cv2\n",
    "import mediapipe as mp\n",
    "import csv\n",
    "\n",
    "# Initialize MediaPipe Pose\n",
    "mp_pose = mp.solutions.pose\n",
    "mp_drawing = mp.solutions.drawing_utils\n",
    "pose = mp_pose.Pose()\n",
    "\n",
    "# Open video file\n",
    "video_path = r\"D:\\project\\lunges correct.mp4\"\n",
    "\n",
    "# Replace with your video file\n",
    "cap = cv2.VideoCapture(video_path)\n",
    "\n",
    "# Prepare CSV file\n",
    "csv_file = 'lunges correct.csv'\n",
    "with open(csv_file, mode='w', newline='') as file:\n",
    "    writer = csv.writer(file)\n",
    "    header = ['frame'] + [f'{landmark}_{axis}' for landmark in range(33) for axis in ['x', 'y', 'z', 'visibility']]\n",
    "    writer.writerow(header)\n",
    "\n",
    "    frame_index = 0\n",
    "\n",
    "    # Process video frame by frame\n",
    "    while cap.isOpened():\n",
    "        ret, frame = cap.read()\n",
    "        if not ret:\n",
    "            break\n",
    "\n",
    "        # Convert frame to RGB\n",
    "        image = cv2.cvtColor(frame, cv2.COLOR_BGR2RGB)\n",
    "        results = pose.process(image)\n",
    "\n",
    "        # Extract landmarks\n",
    "        if results.pose_landmarks:\n",
    "            landmarks = results.pose_landmarks.landmark\n",
    "            row = [frame_index] + [\n",
    "                [landmark.x, landmark.y, landmark.z, landmark.visibility] for landmark in landmarks\n",
    "            ]\n",
    "            flat_row = [frame_index] + [value for landmark in landmarks for value in [landmark.x, landmark.y, landmark.z, landmark.visibility]]\n",
    "            writer.writerow(flat_row)\n",
    "\n",
    "        frame_index += 1\n",
    "\n",
    "    cap.release()\n",
    "\n",
    "pose.close()\n",
    "print(\"file created\")"
   ]
  },
  {
   "cell_type": "code",
   "execution_count": null,
   "id": "74750027-86f3-4ccc-b4d8-e3f169cb64d8",
   "metadata": {},
   "outputs": [],
   "source": []
  }
 ],
 "metadata": {
  "kernelspec": {
   "display_name": "Python 3 (ipykernel)",
   "language": "python",
   "name": "python3"
  },
  "language_info": {
   "codemirror_mode": {
    "name": "ipython",
    "version": 3
   },
   "file_extension": ".py",
   "mimetype": "text/x-python",
   "name": "python",
   "nbconvert_exporter": "python",
   "pygments_lexer": "ipython3",
   "version": "3.12.2"
  }
 },
 "nbformat": 4,
 "nbformat_minor": 5
}
