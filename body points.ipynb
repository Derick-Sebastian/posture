{
 "cells": [
  {
   "cell_type": "code",
   "execution_count": 1,
   "id": "9bc5722c-c972-49ed-a6ca-4442707fc4bc",
   "metadata": {},
   "outputs": [],
   "source": [
    "import cv2\n",
    "import mediapipe as mp\n",
    "import numpy as np"
   ]
  },
  {
   "cell_type": "code",
   "execution_count": 2,
   "id": "32523649-6789-407a-bcc0-cba4be99154a",
   "metadata": {},
   "outputs": [],
   "source": [
    "mp_drawing=mp.solutions.drawing_utils\n",
    "mp_pose=mp.solutions.pose\n",
    "\n",
    "capture=cv2.VideoCapture(0)\n",
    "\n",
    "with mp_pose.Pose(min_detection_confidence=0.5,min_tracking_confidence=0.5) as pose:\n",
    "\n",
    "    while capture.isOpened():\n",
    "        ret,image=capture.read() \n",
    "        \n",
    "        image=cv2.cvtColor(image,cv2.COLOR_BGR2RGB)\n",
    "        image.flags.writeable=False\n",
    "        results=pose.process(image)\n",
    "        image.flags.writeable=True\n",
    "        image=cv2.cvtColor(image,cv2.COLOR_RGB2BGR)\n",
    "        mp_drawing.draw_landmarks(image,results.pose_landmarks,mp_pose.POSE_CONNECTIONS,\n",
    "                                  mp_drawing.DrawingSpec(color=(245,117,66),thickness=2,circle_radius=4),\n",
    "                                  mp_drawing.DrawingSpec(color=(245,66,230),thickness=2,circle_radius=2)\n",
    "                                 )\n",
    "        \n",
    "        cv2.imshow('camera feed',image)\n",
    "        \n",
    "        if cv2.waitKey(10) & 0xFF==ord('q'):\n",
    "            break\n",
    "capture.release()\n",
    "cv2.destroyAllWindows()"
   ]
  },
  {
   "cell_type": "code",
   "execution_count": null,
   "id": "66e7649d-1e8c-4d19-9375-dad9ac94315e",
   "metadata": {},
   "outputs": [],
   "source": []
  }
 ],
 "metadata": {
  "kernelspec": {
   "display_name": "Python 3 (ipykernel)",
   "language": "python",
   "name": "python3"
  },
  "language_info": {
   "codemirror_mode": {
    "name": "ipython",
    "version": 3
   },
   "file_extension": ".py",
   "mimetype": "text/x-python",
   "name": "python",
   "nbconvert_exporter": "python",
   "pygments_lexer": "ipython3",
   "version": "3.12.2"
  }
 },
 "nbformat": 4,
 "nbformat_minor": 5
}
